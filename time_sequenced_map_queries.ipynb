{
 "cells": [
  {
   "cell_type": "code",
   "execution_count": null,
   "metadata": {},
   "outputs": [],
   "source": [
    "# START BY RUNNING THIS CELL\n",
    "# Install required python libraries\n",
    "!pip install -r requirements.txt\n",
    "# add python scripts to PATH variable\n",
    "import sys\n",
    "sys.path.append(\"scripts\")"
   ]
  },
  {
   "cell_type": "markdown",
   "metadata": {},
   "source": [
    "# 1. Querying for a Place Name\n",
    "Enter the name of a place below to see how that place changed names over time on historical maps. The given place must be known to the World Gistorical Gazetteer, which has data compiled for inhabitited settlements (e.g. cities), administrative regions (e.g. countries), topographical features (e.g. mountains), hydrological features (e.g. rivers), landscapes, and historical sites (e.g. ruins) from around the world. You can optionally specify what type of feature you are searching for."
   ]
  },
  {
   "cell_type": "code",
   "execution_count": null,
   "metadata": {},
   "outputs": [],
   "source": [
    "import feature_query as fq\n",
    "\n",
    "query = \"Oslo\" # Put your place name query in quotes here\n",
    "\n",
    "\n",
    "\"\"\" Optionally specify the type of place you are searching for here\n",
    "If you leave this variable as None, the \n",
    "enter: \n",
    "    \"P\" for inhabited settlement,\n",
    "    \"A\" for administrative region,\n",
    "    \"T\" for topographical feature,\n",
    "    \"H\" for hydrological feature,\n",
    "    \"S\" for historical site\n",
    "\"\"\"\n",
    "feature_type = None\n",
    "\n",
    "query_results = fq.dated_query(query, feature_type)"
   ]
  },
  {
   "cell_type": "markdown",
   "metadata": {},
   "source": [
    "# 2. Query Results\n",
    "The query results are a dictionary mapping each name variant used by the place to accounts of that name variant being used on maps, and the dates of each map.\n",
    "In the next step, we write these results to a file for the queried city"
   ]
  },
  {
   "cell_type": "code",
   "execution_count": 21,
   "metadata": {},
   "outputs": [],
   "source": [
    "import json\n",
    "import os\n",
    "if \"input_queries\" not in os.listdir(\"analyzed_features\"):\n",
    "    os.mkdir(\"analyzed_features/input_queries\")\n",
    "matched_with_query = {query:query_results}\n",
    "with open(\"analyzed_features/input_queries/\" + query + \"_dates.json\", \"w\") as fp:\n",
    "    json.dump(matched_with_query, fp)"
   ]
  },
  {
   "cell_type": "markdown",
   "metadata": {},
   "source": [
    "# 3. Plotting Map Images\n",
    "All that's left to do is to visualize the query results by viewing the maps of the queried place over time. Running the next code cell\n",
    "will download the map images for the query results and plot them over time, cropping each map to show a small area around the queried place. While each map may be small, you can simply click on a map to enlarge it. Maps from the same decade will appear in the same column.\n",
    "\n",
    "# This process will ususally take a couple minutes"
   ]
  },
  {
   "cell_type": "code",
   "execution_count": null,
   "metadata": {},
   "outputs": [],
   "source": [
    "%matplotlib inline\n",
    "import plot_map_images\n",
    "import extract_map_images\n",
    "\n",
    "query_results_path = \"input_queries/\" + query + \"_dates.json\"\n",
    "# If you only want to see a limited number of maps, specify here the maximum number of maps to display\n",
    "# and a random sample of that number of maps will be plotted\n",
    "# Leave this as none to see all resulting maps\n",
    "max_sample = None\n",
    "\n",
    "# to instead see a plotted output for a previous query for \"Oslo\", uncomment the next line\n",
    "# query_results_path = \"world_capitals/\" + \"Oslo\" + \"_dates.json\"\n",
    "images, named_accounts = extract_map_images.extract_images_from_accounts_file(\"analyzed_features/\" + query_results_path)\n",
    "plot_map_images.plot_image_accounts_list(images, named_accounts)"
   ]
  },
  {
   "cell_type": "code",
   "execution_count": 5,
   "metadata": {},
   "outputs": [],
   "source": [
    "# the above code downloads image files for each map. \n",
    "# DELETE THE MAP FILES BY RUNNING THIS CELL\n",
    "import os\n",
    "for image_file in os.listdir(\"map_images\"):\n",
    "    os.remove(\"map_images/\" + image_file)\n",
    "os.rmdir(\"map_images\")\n"
   ]
  }
 ],
 "metadata": {
  "kernelspec": {
   "display_name": "Python 3",
   "language": "python",
   "name": "python3"
  },
  "language_info": {
   "codemirror_mode": {
    "name": "ipython",
    "version": 3
   },
   "file_extension": ".py",
   "mimetype": "text/x-python",
   "name": "python",
   "nbconvert_exporter": "python",
   "pygments_lexer": "ipython3",
   "version": "3.8.9"
  },
  "orig_nbformat": 4
 },
 "nbformat": 4,
 "nbformat_minor": 2
}
